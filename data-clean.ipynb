{
 "cells": [
  {
   "cell_type": "code",
   "execution_count": 6,
   "id": "a5e6ad33-4324-43f8-818f-75f54cfcb280",
   "metadata": {},
   "outputs": [
    {
     "name": "stdout",
     "output_type": "stream",
     "text": [
      "Merged dataset saved successfully at: /Users/Grace/Desktop/2025-studio/project3/merged_jackpot_data.csv\n",
      "   Draw Date  Advertised Jackpot  Actual Winning Jackpot\n",
      "0 2024-12-10           619000000                   810.0\n",
      "1 2024-12-13           695000000                   810.0\n",
      "2 2024-12-17           760000000                   810.0\n",
      "3 2024-12-20           862000000                   810.0\n",
      "4 2024-12-24          1000000000                   810.0\n"
     ]
    }
   ],
   "source": [
    "import pandas as pd\n",
    "import numpy as np\n",
    "import os\n",
    "\n",
    "# Set file paths (Make sure they match your actual file locations)\n",
    "file1_path = \"/Users/Grace/Desktop/2025-studio/project3/mega_millions_jackpot_history.csv\"\n",
    "file2_path = \"/Users/Grace/Desktop/2025-studio/project3/scraped_lottery_jackpot_history.csv\"\n",
    "\n",
    "# Load datasets\n",
    "df1 = pd.read_csv(file1_path)\n",
    "df2 = pd.read_csv(file2_path)\n",
    "\n",
    "# Convert 'Draw Date' in df1 to a standard date format (MMM-DD-YY)\n",
    "df1['Draw Date'] = pd.to_datetime(df1['Draw Date'].str.replace(r'^[A-Z]{3} ', '', regex=True), format=\"%m/%d/%y\")\n",
    "\n",
    "# Convert 'Date' in df2 to datetime\n",
    "df2['Date'] = pd.to_datetime(df2['Date'], format=\"%d-%b-%y\")\n",
    "\n",
    "# Function to convert jackpot values to numeric (millions)\n",
    "def convert_jackpot(value):\n",
    "    value = value.replace('$', '').replace(',', '').lower()\n",
    "    if 'billion' in value:\n",
    "        return float(value.replace(' billion', '')) * 1000  # Convert billion to million\n",
    "    elif 'million' in value:\n",
    "        return float(value.replace(' million', ''))\n",
    "    return np.nan  # Handle unexpected values\n",
    "\n",
    "# Apply conversion to 'Jackpot' column\n",
    "df2['Jackpot'] = df2['Jackpot'].apply(convert_jackpot)\n",
    "\n",
    "# Merge datasets on the closest date\n",
    "merged_df = pd.merge_asof(df1.sort_values('Draw Date'), df2.sort_values('Date'), left_on='Draw Date', right_on='Date')\n",
    "\n",
    "# Select relevant columns\n",
    "merged_df = merged_df[['Draw Date', 'Jackpot_his', 'Jackpot']]\n",
    "merged_df.rename(columns={'Jackpot_his': 'Advertised Jackpot', 'Jackpot': 'Actual Winning Jackpot'}, inplace=True)\n",
    "\n",
    "# Define save path for the merged CSV\n",
    "save_path = \"/Users/Grace/Desktop/2025-studio/project3/merged_jackpot_data.csv\"\n",
    "\n",
    "# Ensure the directory exists before saving\n",
    "os.makedirs(os.path.dirname(save_path), exist_ok=True)\n",
    "\n",
    "# Save merged data to CSV\n",
    "merged_df.to_csv(save_path, index=False)\n",
    "\n",
    "# Print confirmation\n",
    "print(f\"Merged dataset saved successfully at: {save_path}\")\n",
    "\n",
    "# Display first few rows\n",
    "print(merged_df.head())\n"
   ]
  },
  {
   "cell_type": "code",
   "execution_count": null,
   "id": "8cb3c4a5-1a64-4fff-a382-9c4b627c6f62",
   "metadata": {},
   "outputs": [],
   "source": []
  }
 ],
 "metadata": {
  "kernelspec": {
   "display_name": "Python 3 (ipykernel)",
   "language": "python",
   "name": "python3"
  },
  "language_info": {
   "codemirror_mode": {
    "name": "ipython",
    "version": 3
   },
   "file_extension": ".py",
   "mimetype": "text/x-python",
   "name": "python",
   "nbconvert_exporter": "python",
   "pygments_lexer": "ipython3",
   "version": "3.12.7"
  }
 },
 "nbformat": 4,
 "nbformat_minor": 5
}
